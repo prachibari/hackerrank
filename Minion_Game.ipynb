{
 "cells": [
  {
   "cell_type": "markdown",
   "metadata": {},
   "source": [
    "# Problem\n",
    "Kevin and Stuart want to play the 'The Minion Game'.\n",
    "\n",
    "Game Rules\n",
    "\n",
    "Both players are given the same string, .\n",
    "Both players have to make substrings using the letters of the string .\n",
    "Stuart has to make words starting with consonants.\n",
    "Kevin has to make words starting with vowels. \n",
    "The game ends when both players have made all possible substrings. \n",
    "\n",
    "Scoring\n",
    "A player gets +1 point for each occurrence of the substring in the string .\n",
    "\n",
    "For Example:\n",
    "String  = BANANA\n",
    "Kevin's vowel beginning word = ANA\n",
    "Here, ANA occurs twice in BANANA. Hence, Kevin will get 2 Points. "
   ]
  },
  {
   "cell_type": "code",
   "execution_count": null,
   "metadata": {
    "collapsed": true
   },
   "outputs": [],
   "source": []
  },
  {
   "cell_type": "markdown",
   "metadata": {},
   "source": [
    "#### Version 1"
   ]
  },
  {
   "cell_type": "code",
   "execution_count": 2,
   "metadata": {
    "collapsed": false
   },
   "outputs": [
    {
     "name": "stdout",
     "output_type": "stream",
     "text": [
      "BANANA\n",
      "Stauat 12\n"
     ]
    }
   ],
   "source": [
    "def minion_game(string):\n",
    "    # your code goes here\n",
    "    dict_st = {}\n",
    "    dict_kv = {}\n",
    "    vowels = ['A','E','I','O','U']\n",
    "    sum_st = 0\n",
    "    sum_kv = 0\n",
    "\n",
    "    def update_dict(substr):\n",
    "        if substr[0] in vowels:\n",
    "            if substr in dict_kv:\n",
    "                dict_kv[substr] = dict_kv[substr]+1\n",
    "            else:\n",
    "                dict_kv[substr] = 1\n",
    "        else:\n",
    "            if substr in dict_st:\n",
    "                dict_st[substr] = dict_st[substr]+1\n",
    "            else:\n",
    "                dict_st[substr] = 1\n",
    "\n",
    "    for i in range(len(string)):\n",
    "        update_dict(string[i])\n",
    "        for j in range(i+1,len(string)):\n",
    "            sub_string = string[i:j+1]\n",
    "            update_dict(sub_string)\n",
    "\n",
    "    for key,value in dict_st.items():\n",
    "        sum_st = sum_st+dict_st[key]\n",
    "\n",
    "    for key,value in dict_kv.items():\n",
    "        sum_kv = sum_kv+dict_kv[key]\n",
    "\n",
    "    if sum_st > sum_kv:\n",
    "        print('Stauat',sum_st)\n",
    "        #print(dict_st)\n",
    "        return(sum_st)\n",
    "    else:\n",
    "        print(sum_kv)\n",
    "        return(sum_kv)\n",
    "\n",
    "if __name__ == '__main__':\n",
    "    s = input()\n",
    "    minion_game(s)"
   ]
  },
  {
   "cell_type": "code",
   "execution_count": null,
   "metadata": {
    "collapsed": true
   },
   "outputs": [],
   "source": []
  },
  {
   "cell_type": "markdown",
   "metadata": {},
   "source": [
    "#### Version 2"
   ]
  },
  {
   "cell_type": "code",
   "execution_count": 3,
   "metadata": {
    "collapsed": false
   },
   "outputs": [
    {
     "name": "stdout",
     "output_type": "stream",
     "text": [
      "BANANA\n",
      "Stuart 12\n"
     ]
    }
   ],
   "source": [
    "def minion_game(string):\n",
    "    # your code goes here\n",
    "    vowels = \"AEIOU\"\n",
    "    kiven = 0\n",
    "    stuart = 0\n",
    "    for i in range(len(string)):\n",
    "        if string[i] in vowels:\n",
    "            kiven = kiven + len(string) - i\n",
    "        else:\n",
    "            stuart = stuart + len(string) - i\n",
    "\n",
    "    if kiven > stuart:\n",
    "        print(\"Kevin\", kiven)\n",
    "    elif kiven < stuart:\n",
    "        print(\"Stuart\",stuart)\n",
    "    else:\n",
    "        print(\"Draw\")\n",
    "\n",
    "if __name__ == '__main__':\n",
    "    s = input()\n",
    "    minion_game(s)"
   ]
  },
  {
   "cell_type": "code",
   "execution_count": null,
   "metadata": {
    "collapsed": true
   },
   "outputs": [],
   "source": []
  },
  {
   "cell_type": "code",
   "execution_count": null,
   "metadata": {
    "collapsed": true
   },
   "outputs": [],
   "source": []
  }
 ],
 "metadata": {
  "kernelspec": {
   "display_name": "Python [default]",
   "language": "python",
   "name": "python3"
  },
  "language_info": {
   "codemirror_mode": {
    "name": "ipython",
    "version": 3
   },
   "file_extension": ".py",
   "mimetype": "text/x-python",
   "name": "python",
   "nbconvert_exporter": "python",
   "pygments_lexer": "ipython3",
   "version": "3.5.2"
  }
 },
 "nbformat": 4,
 "nbformat_minor": 1
}
