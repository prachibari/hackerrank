{
 "cells": [
  {
   "cell_type": "markdown",
   "metadata": {},
   "source": [
    "## Iterables and Iterators\n",
    "\n",
    "\n",
    "* The itertools module standardizes a core set of fast, memory efficient tools that are useful by themselves or in combination. Together, they form an iterator algebra making it possible to construct specialized tools succinctly and efficiently in pure Python.\n",
    "\n",
    "\n",
    "* You are given a list of  lowercase English letters. For a given integer , you can select any  indices (assume -based indexing) with a uniform probability from the list.\n",
    "\n",
    "* Find the probability that at least one of the  indices selected will contain the letter: ''."
   ]
  },
  {
   "cell_type": "markdown",
   "metadata": {},
   "source": [
    "Sample Input\n",
    "4\n",
    "a a c d\n",
    "2\n",
    "\n",
    "Sample Output\n",
    "0.833"
   ]
  },
  {
   "cell_type": "markdown",
   "metadata": {},
   "source": [
    "* Explanation\n",
    "\n",
    "All possible unordered tuples of length 2 comprising of indices from 1 to 4 are:\n",
    "(1,2) (1,3) (1,4) (2,3) (2,4) (3,4)\n",
    "\n",
    "Out of these 6 combinations, 5 of them contain either index 1 or index 2 which are the indices that contain the letter 'a'.\n",
    "\n",
    "Hence, the answer is 5/6 = 0.833."
   ]
  },
  {
   "cell_type": "code",
   "execution_count": 1,
   "metadata": {
    "collapsed": false
   },
   "outputs": [
    {
     "name": "stdout",
     "output_type": "stream",
     "text": [
      "4\n",
      "a a b c\n",
      "2\n",
      "0.833\n"
     ]
    }
   ],
   "source": [
    "from itertools import combinations\n",
    "\n",
    "N = int(input())\n",
    "sequence = input().split() #returns a list\n",
    "K = int(input())\n",
    "\n",
    "#print(sequence)\n",
    "\n",
    "possible_comb = list(combinations(sequence, K))\n",
    "containing_a = filter(lambda c: 'a' in c, possible_comb)\n",
    "print(\"{0:.3}\".format(len(list(containing_a))/len(possible_comb)))"
   ]
  },
  {
   "cell_type": "code",
   "execution_count": null,
   "metadata": {
    "collapsed": true
   },
   "outputs": [],
   "source": []
  },
  {
   "cell_type": "code",
   "execution_count": null,
   "metadata": {
    "collapsed": true
   },
   "outputs": [],
   "source": []
  }
 ],
 "metadata": {
  "kernelspec": {
   "display_name": "Python [default]",
   "language": "python",
   "name": "python3"
  },
  "language_info": {
   "codemirror_mode": {
    "name": "ipython",
    "version": 3
   },
   "file_extension": ".py",
   "mimetype": "text/x-python",
   "name": "python",
   "nbconvert_exporter": "python",
   "pygments_lexer": "ipython3",
   "version": "3.5.2"
  }
 },
 "nbformat": 4,
 "nbformat_minor": 1
}
