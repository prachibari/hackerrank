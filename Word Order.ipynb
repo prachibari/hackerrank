{
 "cells": [
  {
   "cell_type": "markdown",
   "metadata": {},
   "source": [
    "# Word Order\n",
    "### Problem\n",
    "You are given  words. Some words may repeat. For each word, output its number of occurrences. The output order should correspond with the input order of appearance of the word. See the sample input/output for clarification.\n",
    "\n",
    "Note: Each input line ends with a \"\\n\" character."
   ]
  },
  {
   "cell_type": "code",
   "execution_count": 1,
   "metadata": {
    "collapsed": false
   },
   "outputs": [
    {
     "name": "stdout",
     "output_type": "stream",
     "text": [
      "4\n",
      "bcdef\n",
      "abcdefg\n",
      "bcde\n",
      "bcdef\n",
      "3\n",
      "2 1 1 "
     ]
    }
   ],
   "source": [
    "import collections\n",
    "\n",
    "n = int(input())\n",
    "\n",
    "dict_words = collections.OrderedDict()\n",
    "\n",
    "for i in range(n):\n",
    "    word = input()\n",
    "    if word in dict_words:\n",
    "        dict_words[word] += 1\n",
    "    else:\n",
    "        dict_words[word] = 1\n",
    "\n",
    "print(len(dict_words))\n",
    "\n",
    "for key,value in dict_words.items():\n",
    "    print(value,end=\" \")\n"
   ]
  },
  {
   "cell_type": "code",
   "execution_count": null,
   "metadata": {
    "collapsed": true
   },
   "outputs": [],
   "source": []
  }
 ],
 "metadata": {
  "anaconda-cloud": {},
  "kernelspec": {
   "display_name": "Python [default]",
   "language": "python",
   "name": "python3"
  },
  "language_info": {
   "codemirror_mode": {
    "name": "ipython",
    "version": 3
   },
   "file_extension": ".py",
   "mimetype": "text/x-python",
   "name": "python",
   "nbconvert_exporter": "python",
   "pygments_lexer": "ipython3",
   "version": "3.5.2"
  }
 },
 "nbformat": 4,
 "nbformat_minor": 1
}
