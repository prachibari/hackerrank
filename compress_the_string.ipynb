{
 "cells": [
  {
   "cell_type": "markdown",
   "metadata": {},
   "source": [
    "## Compress the String!"
   ]
  },
  {
   "cell_type": "code",
   "execution_count": 1,
   "metadata": {
    "collapsed": false
   },
   "outputs": [
    {
     "name": "stdout",
     "output_type": "stream",
     "text": [
      "1222332122\n",
      "<itertools._grouper object at 0x000001C5A0793DD8> 1\n",
      "<itertools._grouper object at 0x000001C5A0793DA0> 2\n",
      "<itertools._grouper object at 0x000001C5A0793DD8> 3\n",
      "<itertools._grouper object at 0x000001C5A0793DA0> 2\n",
      "<itertools._grouper object at 0x000001C5A0793DD8> 1\n",
      "<itertools._grouper object at 0x000001C5A0793DA0> 2\n",
      "(1, 1) (3, 2) (2, 3) (1, 2) (1, 1) (2, 2) "
     ]
    }
   ],
   "source": [
    "import itertools\n",
    "\n",
    "inputstr = input().strip() \n",
    "\n",
    "output_lst = []\n",
    "\n",
    "for key,group in itertools.groupby(inputstr):\n",
    "    print(group,key) #note only group returns an object\n",
    "    output_lst.append((len(list(group)),int(key)))\n",
    "    #print(output_lst)\n",
    "\n",
    "for element in output_lst:\n",
    "    print(element,end=\" \")"
   ]
  },
  {
   "cell_type": "code",
   "execution_count": null,
   "metadata": {
    "collapsed": true
   },
   "outputs": [],
   "source": []
  },
  {
   "cell_type": "code",
   "execution_count": null,
   "metadata": {
    "collapsed": true
   },
   "outputs": [],
   "source": []
  }
 ],
 "metadata": {
  "anaconda-cloud": {},
  "kernelspec": {
   "display_name": "Python [default]",
   "language": "python",
   "name": "python3"
  },
  "language_info": {
   "codemirror_mode": {
    "name": "ipython",
    "version": 3
   },
   "file_extension": ".py",
   "mimetype": "text/x-python",
   "name": "python",
   "nbconvert_exporter": "python",
   "pygments_lexer": "ipython3",
   "version": "3.5.2"
  }
 },
 "nbformat": 4,
 "nbformat_minor": 1
}
